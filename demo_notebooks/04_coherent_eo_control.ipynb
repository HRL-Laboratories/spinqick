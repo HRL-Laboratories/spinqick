{
 "cells": [
  {
   "cell_type": "code",
   "execution_count": 1,
   "id": "5e5daa0b",
   "metadata": {},
   "outputs": [],
   "source": [
    "import Pyro4\n",
    "from qick import QickConfig\n",
    "\n",
    "%matplotlib widget"
   ]
  },
  {
   "cell_type": "code",
   "execution_count": 3,
   "id": "c5f252fc",
   "metadata": {},
   "outputs": [
    {
     "name": "stdout",
     "output_type": "stream",
     "text": [
      "QICK running on ZCU216, software version 0.2.360\n",
      "\n",
      "Firmware configuration (built Fri Aug  1 10:30:05 2025):\n",
      "\n",
      "\tGlobal clocks (MHz): tProc dispatcher timing 430.080, RF reference 245.760\n",
      "\tGroups of related clocks: [tProc timing clock, DAC tile 0, DAC tile 1, DAC tile 2, DAC tile 3], [ADC tile 1, ADC tile 2]\n",
      "\n",
      "\t16 signal generator channels:\n",
      "\t0:\taxis_signal_gen_v6 - fs=6881.280 Msps, fabric=430.080 MHz\n",
      "\t\tenvelope memory: 65536 complex samples (9.524 us)\n",
      "\t\t32-bit DDS, range=6881.280 MHz\n",
      "\t\tDAC tile 0, blk 0 is 0_228 on JHC1, or QICK box DAC port 0\n",
      "\t1:\taxis_signal_gen_v6 - fs=6881.280 Msps, fabric=430.080 MHz\n",
      "\t\tenvelope memory: 65536 complex samples (9.524 us)\n",
      "\t\t32-bit DDS, range=6881.280 MHz\n",
      "\t\tDAC tile 0, blk 1 is 1_228 on JHC2, or QICK box DAC port 1\n",
      "\t2:\taxis_signal_gen_v6 - fs=6881.280 Msps, fabric=430.080 MHz\n",
      "\t\tenvelope memory: 65536 real samples (9.524 us)\n",
      "\t\tDAC tile 0, blk 2 is 2_228 on JHC1, or QICK box DAC port 2\n",
      "\t3:\taxis_signal_gen_v6 - fs=6881.280 Msps, fabric=430.080 MHz\n",
      "\t\tenvelope memory: 65536 real samples (9.524 us)\n",
      "\t\tDAC tile 0, blk 3 is 3_228 on JHC2, or QICK box DAC port 3\n",
      "\t4:\taxis_signal_gen_v6 - fs=6881.280 Msps, fabric=430.080 MHz\n",
      "\t\tenvelope memory: 65536 real samples (9.524 us)\n",
      "\t\tDAC tile 1, blk 0 is 0_229 on JHC1, or QICK box DAC port 4\n",
      "\t5:\taxis_signal_gen_v6 - fs=6881.280 Msps, fabric=430.080 MHz\n",
      "\t\tenvelope memory: 65536 real samples (9.524 us)\n",
      "\t\tDAC tile 1, blk 1 is 1_229 on JHC2, or QICK box DAC port 5\n",
      "\t6:\taxis_signal_gen_v6 - fs=6881.280 Msps, fabric=430.080 MHz\n",
      "\t\tenvelope memory: 65536 real samples (9.524 us)\n",
      "\t\tDAC tile 1, blk 2 is 2_229 on JHC1, or QICK box DAC port 6\n",
      "\t7:\taxis_signal_gen_v6 - fs=6881.280 Msps, fabric=430.080 MHz\n",
      "\t\tenvelope memory: 65536 real samples (9.524 us)\n",
      "\t\tDAC tile 1, blk 3 is 3_229 on JHC2, or QICK box DAC port 7\n",
      "\t8:\taxis_signal_gen_v6 - fs=6881.280 Msps, fabric=430.080 MHz\n",
      "\t\tenvelope memory: 65536 real samples (9.524 us)\n",
      "\t\tDAC tile 2, blk 0 is 0_230 on JHC3, or QICK box DAC port 8\n",
      "\t9:\taxis_signal_gen_v6 - fs=6881.280 Msps, fabric=430.080 MHz\n",
      "\t\tenvelope memory: 65536 real samples (9.524 us)\n",
      "\t\tDAC tile 2, blk 1 is 1_230 on JHC4, or QICK box DAC port 9\n",
      "\t10:\taxis_signal_gen_v6 - fs=6881.280 Msps, fabric=430.080 MHz\n",
      "\t\tenvelope memory: 65536 real samples (9.524 us)\n",
      "\t\tDAC tile 2, blk 2 is 2_230 on JHC3, or QICK box DAC port 10\n",
      "\t11:\taxis_signal_gen_v6 - fs=6881.280 Msps, fabric=430.080 MHz\n",
      "\t\tenvelope memory: 65536 real samples (9.524 us)\n",
      "\t\tDAC tile 2, blk 3 is 3_230 on JHC4, or QICK box DAC port 11\n",
      "\t12:\taxis_signal_gen_v6 - fs=6881.280 Msps, fabric=430.080 MHz\n",
      "\t\tenvelope memory: 65536 real samples (9.524 us)\n",
      "\t\tDAC tile 3, blk 0 is 0_231 on JHC3, or QICK box DAC port 12\n",
      "\t13:\taxis_signal_gen_v6 - fs=6881.280 Msps, fabric=430.080 MHz\n",
      "\t\tenvelope memory: 65536 real samples (9.524 us)\n",
      "\t\tDAC tile 3, blk 1 is 1_231 on JHC4, or QICK box DAC port 13\n",
      "\t14:\taxis_signal_gen_v6 - fs=6881.280 Msps, fabric=430.080 MHz\n",
      "\t\tenvelope memory: 65536 real samples (9.524 us)\n",
      "\t\tDAC tile 3, blk 2 is 2_231 on JHC3, or QICK box DAC port 14\n",
      "\t15:\taxis_signal_gen_v6 - fs=6881.280 Msps, fabric=430.080 MHz\n",
      "\t\tenvelope memory: 65536 real samples (9.524 us)\n",
      "\t\tDAC tile 3, blk 3 is 3_231 on JHC4, or QICK box DAC port 15\n",
      "\n",
      "\t11 readout channels:\n",
      "\t0:\taxis_dyn_readout_v1 - configured by tProc output 4\n",
      "\t\tfs=2457.600 Msps, decimated=307.200 MHz, 32-bit DDS, range=2457.600 MHz\n",
      "\t\taxis_avg_buffer v1.2 (has edge counter, no weights)\n",
      "\t\tmemory 8192 accumulated, 4096 decimated (13.333 us)\n",
      "\t\ttriggered by tport 10, pin 0, feedback to tProc input 0\n",
      "\t\tADC tile 2, blk 0 is 0_226 on JHC7, or QICK box ADC port 4\n",
      "\t1:\taxis_dyn_readout_v1 - configured by tProc output 4\n",
      "\t\tfs=2457.600 Msps, decimated=307.200 MHz, 32-bit DDS, range=2457.600 MHz\n",
      "\t\taxis_avg_buffer v1.2 (has edge counter, no weights)\n",
      "\t\tmemory 8192 accumulated, 4096 decimated (13.333 us)\n",
      "\t\ttriggered by tport 11, pin 0, feedback to tProc input 1\n",
      "\t\tADC tile 2, blk 2 is 2_226 on JHC7, or QICK box ADC port 6\n",
      "\t2:\taxis_pfb_readout_v4 - configured by PYNQ\n",
      "\t\tfs=2457.600 Msps, decimated=38.400 MHz, 32-bit DDS, range=38.400 MHz\n",
      "\t\taxis_avg_buffer v1.2 (has edge counter, no weights)\n",
      "\t\tmemory 8192 accumulated, 1024 decimated (26.667 us)\n",
      "\t\ttriggered by tport 12, pin 0, feedback to tProc input 2\n",
      "\t\tADC tile 2, blk 1 is 1_226 on JHC8, or QICK box ADC port 5\n",
      "\t3:\taxis_pfb_readout_v4 - configured by PYNQ\n",
      "\t\tfs=2457.600 Msps, decimated=38.400 MHz, 32-bit DDS, range=38.400 MHz\n",
      "\t\taxis_avg_buffer v1.2 (has edge counter, no weights)\n",
      "\t\tmemory 8192 accumulated, 1024 decimated (26.667 us)\n",
      "\t\ttriggered by tport 13, pin 0, feedback to tProc input 3\n",
      "\t\tADC tile 2, blk 1 is 1_226 on JHC8, or QICK box ADC port 5\n",
      "\t4:\taxis_pfb_readout_v4 - configured by PYNQ\n",
      "\t\tfs=2457.600 Msps, decimated=38.400 MHz, 32-bit DDS, range=38.400 MHz\n",
      "\t\taxis_avg_buffer v1.2 (has edge counter, no weights)\n",
      "\t\tmemory 8192 accumulated, 1024 decimated (26.667 us)\n",
      "\t\ttriggered by tport 14, pin 0, feedback to tProc input 4\n",
      "\t\tADC tile 2, blk 1 is 1_226 on JHC8, or QICK box ADC port 5\n",
      "\t5:\taxis_pfb_readout_v4 - configured by PYNQ\n",
      "\t\tfs=2457.600 Msps, decimated=38.400 MHz, 32-bit DDS, range=38.400 MHz\n",
      "\t\taxis_avg_buffer v1.2 (has edge counter, no weights)\n",
      "\t\tmemory 8192 accumulated, 1024 decimated (26.667 us)\n",
      "\t\ttriggered by tport 15, pin 0, feedback to tProc input 5\n",
      "\t\tADC tile 2, blk 1 is 1_226 on JHC8, or QICK box ADC port 5\n",
      "\t6:\taxis_pfb_readout_v4 - configured by PYNQ\n",
      "\t\tfs=2457.600 Msps, decimated=38.400 MHz, 32-bit DDS, range=38.400 MHz\n",
      "\t\taxis_avg_buffer v1.2 (has edge counter, no weights)\n",
      "\t\tmemory 8192 accumulated, 1024 decimated (26.667 us)\n",
      "\t\ttriggered by tport 16, pin 0, feedback to tProc input 6\n",
      "\t\tADC tile 2, blk 1 is 1_226 on JHC8, or QICK box ADC port 5\n",
      "\t7:\taxis_pfb_readout_v4 - configured by PYNQ\n",
      "\t\tfs=2457.600 Msps, decimated=38.400 MHz, 32-bit DDS, range=38.400 MHz\n",
      "\t\taxis_avg_buffer v1.2 (has edge counter, no weights)\n",
      "\t\tmemory 8192 accumulated, 1024 decimated (26.667 us)\n",
      "\t\ttriggered by tport 17, pin 0, feedback to tProc input 7\n",
      "\t\tADC tile 2, blk 1 is 1_226 on JHC8, or QICK box ADC port 5\n",
      "\t8:\taxis_pfb_readout_v4 - configured by PYNQ\n",
      "\t\tfs=2457.600 Msps, decimated=38.400 MHz, 32-bit DDS, range=38.400 MHz\n",
      "\t\taxis_avg_buffer v1.2 (has edge counter, no weights)\n",
      "\t\tmemory 8192 accumulated, 1024 decimated (26.667 us)\n",
      "\t\ttriggered by tport 6, pin 0, feedback to tProc input -1\n",
      "\t\tADC tile 2, blk 1 is 1_226 on JHC8, or QICK box ADC port 5\n",
      "\t9:\taxis_pfb_readout_v4 - configured by PYNQ\n",
      "\t\tfs=2457.600 Msps, decimated=38.400 MHz, 32-bit DDS, range=38.400 MHz\n",
      "\t\taxis_avg_buffer v1.2 (has edge counter, no weights)\n",
      "\t\tmemory 8192 accumulated, 1024 decimated (26.667 us)\n",
      "\t\ttriggered by tport 7, pin 0, feedback to tProc input -1\n",
      "\t\tADC tile 2, blk 1 is 1_226 on JHC8, or QICK box ADC port 5\n",
      "\t10:\taxis_dyn_readout_v1 - configured by tProc output 4\n",
      "\t\tfs=2457.600 Msps, decimated=307.200 MHz, 32-bit DDS, range=2457.600 MHz\n",
      "\t\taxis_avg_buffer v1.2 (has edge counter, no weights)\n",
      "\t\tmemory 8192 accumulated, 4096 decimated (13.333 us)\n",
      "\t\ttriggered by tport 18, pin 0, feedback to tProc input -1\n",
      "\t\tADC tile 1, blk 0 is 0_225 on JHC5, or QICK box ADC port 0\n",
      "\n",
      "\t6 digital output pins:\n",
      "\t0:\tSPARE0_1V8\n",
      "\t1:\tSPARE1_1V8\n",
      "\t2:\tSPARE2_1V8\n",
      "\t3:\tSPARE3_1V8\n",
      "\t4:\tSPARE4_1V8\n",
      "\t5:\tSPARE5_1V8\n",
      "\n",
      "\ttProc: qick_processor (\"v2\") rev 25, core execution clock 200.000 MHz\n",
      "\t\tmemories (words): program 4096, data 16384, waveform 1024\n",
      "\t\texternal start pin: None\n",
      "\t\texternal stop pin: None\n",
      "\n",
      "\tDDR4 memory buffer: 1073741824 samples (3.495 sec), 128 samples/transfer\n",
      "\t\twired to readouts [0, 1, 2, 3, 4, 5, 6, 7, 8, 9, 10]\n",
      "\n",
      "\tMR buffer: 8192 samples (3.333 us), wired to readouts [0, 1, 10]\n"
     ]
    }
   ],
   "source": [
    "Pyro4.config.SERIALIZER = \"pickle\"\n",
    "Pyro4.config.PICKLE_PROTOCOL_VERSION = 4\n",
    "\n",
    "ns_host = \"192.168.2.99\"  # make sure this matches your board's ip address!\n",
    "ns_port = 8888\n",
    "proxy_name = \"myqick\"\n",
    "\n",
    "ns = Pyro4.locateNS(host=ns_host, port=ns_port)\n",
    "soc = Pyro4.Proxy(ns.lookup(proxy_name))\n",
    "soccfg = QickConfig(soc.get_cfg())\n",
    "print(soccfg)"
   ]
  },
  {
   "cell_type": "markdown",
   "id": "27d5aa5c",
   "metadata": {},
   "source": [
    "TODO: demos showing EO measurement workflow\n"
   ]
  },
  {
   "cell_type": "markdown",
   "id": "f459d925",
   "metadata": {},
   "source": []
  },
  {
   "cell_type": "markdown",
   "id": "6e841b28",
   "metadata": {},
   "source": [
    "![alt text](demo_data/1755900547_fingerprint.png)"
   ]
  },
  {
   "cell_type": "markdown",
   "id": "e25573a5",
   "metadata": {},
   "source": [
    "![alt text](1755904315_coursecal.png)"
   ]
  },
  {
   "cell_type": "markdown",
   "id": "04956f67",
   "metadata": {},
   "source": [
    "![alt text](demo_data/1755904315_coursecal_2.png)"
   ]
  },
  {
   "cell_type": "markdown",
   "id": "7ec240ec",
   "metadata": {},
   "source": [
    "![alt text](demo_data/1755562343_finecal.png)"
   ]
  },
  {
   "cell_type": "markdown",
   "id": "c88029ce",
   "metadata": {},
   "source": [
    "![alt text](demo_data/1755562343_finecal_2.png)"
   ]
  },
  {
   "cell_type": "markdown",
   "id": "18c972bb",
   "metadata": {},
   "source": [
    "![alt text](demo_data/1755904206_fingerprint.png)"
   ]
  },
  {
   "cell_type": "markdown",
   "id": "b2c8517c",
   "metadata": {},
   "source": [
    "![alt text](demo_data/z_axis_fingerprint-1.png)"
   ]
  },
  {
   "cell_type": "markdown",
   "id": "44d5d985",
   "metadata": {},
   "source": [
    "![alt text](demo_data/1755908530_fingerprint.png)"
   ]
  },
  {
   "cell_type": "code",
   "execution_count": null,
   "id": "3cec390b",
   "metadata": {},
   "outputs": [],
   "source": []
  }
 ],
 "metadata": {
  "kernelspec": {
   "display_name": "Python 3",
   "language": "python",
   "name": "python3"
  },
  "language_info": {
   "codemirror_mode": {
    "name": "ipython",
    "version": 3
   },
   "file_extension": ".py",
   "mimetype": "text/x-python",
   "name": "python",
   "nbconvert_exporter": "python",
   "pygments_lexer": "ipython3",
   "version": "3.11.0"
  }
 },
 "nbformat": 4,
 "nbformat_minor": 5
}
