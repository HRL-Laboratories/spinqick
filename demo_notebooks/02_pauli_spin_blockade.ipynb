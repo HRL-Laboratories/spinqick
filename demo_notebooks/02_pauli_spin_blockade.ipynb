{
 "cells": [
  {
   "cell_type": "markdown",
   "metadata": {},
   "source": [
    "Setting up Pauli spin blockade readout"
   ]
  },
  {
   "cell_type": "code",
   "execution_count": null,
   "metadata": {},
   "outputs": [],
   "source": [
    "import Pyro4\n",
    "from qick import QickConfig\n",
    "from spinqick import settings\n",
    "\n",
    "f = settings.file_settings"
   ]
  },
  {
   "cell_type": "code",
   "execution_count": 21,
   "metadata": {},
   "outputs": [
    {
     "name": "stdout",
     "output_type": "stream",
     "text": [
      "QICK running on ZCU216, software version 0.2.325\n",
      "\n",
      "Firmware configuration (built Mon Mar 31 16:32:04 2025):\n",
      "\n",
      "\tGlobal clocks (MHz): tProcessor 430.080, RF reference 245.760\n",
      "\n",
      "\t16 signal generator channels:\n",
      "\t0:\taxis_signal_gen_v6 - envelope memory 65536 samples (6.838 us)\n",
      "\t\tfs=9584.640 MHz, fabric=599.040 MHz, 32-bit DDS, range=9584.640 MHz\n",
      "\t\tDAC tile 0, blk 0 is 0_228, on JHC1\n",
      "\t1:\taxis_signal_gen_v6 - envelope memory 16384 samples (1.709 us)\n",
      "\t\tfs=9584.640 MHz, fabric=599.040 MHz, 32-bit DDS, range=9584.640 MHz\n",
      "\t\tDAC tile 0, blk 1 is 1_228, on JHC2\n",
      "\t2:\taxis_signal_gen_v6 - envelope memory 32768 samples (3.419 us)\n",
      "\t\tfs=9584.640 MHz, fabric=599.040 MHz, 32-bit DDS, range=9584.640 MHz\n",
      "\t\tDAC tile 0, blk 2 is 2_228, on JHC1\n",
      "\t3:\taxis_signal_gen_v6 - envelope memory 16384 samples (1.709 us)\n",
      "\t\tfs=9584.640 MHz, fabric=599.040 MHz, 32-bit DDS, range=9584.640 MHz\n",
      "\t\tDAC tile 0, blk 3 is 3_228, on JHC2\n",
      "\t4:\taxis_sg_mixmux8_v1 - envelope memory 0 samples (0.000 us)\n",
      "\t\tfs=6881.280 MHz, fabric=430.080 MHz, 32-bit DDS, range=1720.320 MHz\n",
      "\t\tDAC tile 1, blk 0 is 0_229, on JHC1\n",
      "\t5:\taxis_sg_int4_v2 - envelope memory 16384 samples (38.095 us)\n",
      "\t\tfs=6881.280 MHz, fabric=430.080 MHz, 32-bit DDS, range=1720.320 MHz\n",
      "\t\tDAC tile 1, blk 1 is 1_229, on JHC2\n",
      "\t6:\taxis_sg_int4_v2 - envelope memory 8192 samples (19.048 us)\n",
      "\t\tfs=6881.280 MHz, fabric=430.080 MHz, 32-bit DDS, range=1720.320 MHz\n",
      "\t\tDAC tile 1, blk 2 is 2_229, on JHC1\n",
      "\t7:\taxis_sg_int4_v2 - envelope memory 16384 samples (38.095 us)\n",
      "\t\tfs=6881.280 MHz, fabric=430.080 MHz, 32-bit DDS, range=1720.320 MHz\n",
      "\t\tDAC tile 1, blk 3 is 3_229, on JHC2\n",
      "\t8:\taxis_sg_int4_v2 - envelope memory 8192 samples (19.048 us)\n",
      "\t\tfs=6881.280 MHz, fabric=430.080 MHz, 32-bit DDS, range=1720.320 MHz\n",
      "\t\tDAC tile 2, blk 0 is 0_230, on JHC3\n",
      "\t9:\taxis_sg_int4_v2 - envelope memory 8192 samples (19.048 us)\n",
      "\t\tfs=6881.280 MHz, fabric=430.080 MHz, 32-bit DDS, range=1720.320 MHz\n",
      "\t\tDAC tile 2, blk 1 is 1_230, on JHC4\n",
      "\t10:\taxis_sg_int4_v2 - envelope memory 8192 samples (19.048 us)\n",
      "\t\tfs=6881.280 MHz, fabric=430.080 MHz, 32-bit DDS, range=1720.320 MHz\n",
      "\t\tDAC tile 2, blk 2 is 2_230, on JHC3\n",
      "\t11:\taxis_sg_int4_v2 - envelope memory 8192 samples (19.048 us)\n",
      "\t\tfs=6881.280 MHz, fabric=430.080 MHz, 32-bit DDS, range=1720.320 MHz\n",
      "\t\tDAC tile 2, blk 3 is 3_230, on JHC4\n",
      "\t12:\taxis_sg_int4_v2 - envelope memory 8192 samples (19.048 us)\n",
      "\t\tfs=6881.280 MHz, fabric=430.080 MHz, 32-bit DDS, range=1720.320 MHz\n",
      "\t\tDAC tile 3, blk 0 is 0_231, on JHC3\n",
      "\t13:\taxis_sg_int4_v2 - envelope memory 8192 samples (19.048 us)\n",
      "\t\tfs=6881.280 MHz, fabric=430.080 MHz, 32-bit DDS, range=1720.320 MHz\n",
      "\t\tDAC tile 3, blk 1 is 1_231, on JHC4\n",
      "\t14:\taxis_sg_int4_v2 - envelope memory 8192 samples (19.048 us)\n",
      "\t\tfs=6881.280 MHz, fabric=430.080 MHz, 32-bit DDS, range=1720.320 MHz\n",
      "\t\tDAC tile 3, blk 2 is 2_231, on JHC3\n",
      "\t15:\taxis_sg_int4_v2 - envelope memory 8192 samples (19.048 us)\n",
      "\t\tfs=6881.280 MHz, fabric=430.080 MHz, 32-bit DDS, range=1720.320 MHz\n",
      "\t\tDAC tile 3, blk 3 is 3_231, on JHC4\n",
      "\n",
      "\t10 readout channels:\n",
      "\t0:\taxis_dyn_readout_v1 - configured by tProc output 4\n",
      "\t\tfs=2457.600 MHz, decimated=307.200 MHz, 32-bit DDS, range=2457.600 MHz\n",
      "\t\taxis_avg_buffer v1.1 (has edge counter)\n",
      "\t\tmaxlen 8192 accumulated, 4096 decimated (13.333 us)\n",
      "\t\ttriggered by tport 10, pin 0, feedback to tProc input 0\n",
      "\t\tADC tile 2, blk 0 is 0_226, on JHC7\n",
      "\t1:\taxis_dyn_readout_v1 - configured by tProc output 4\n",
      "\t\tfs=2457.600 MHz, decimated=307.200 MHz, 32-bit DDS, range=2457.600 MHz\n",
      "\t\taxis_avg_buffer v1.1 (has edge counter)\n",
      "\t\tmaxlen 8192 accumulated, 4096 decimated (13.333 us)\n",
      "\t\ttriggered by tport 11, pin 0, feedback to tProc input 1\n",
      "\t\tADC tile 2, blk 2 is 2_226, on JHC7\n",
      "\t2:\taxis_pfb_readout_v4 - configured by PYNQ\n",
      "\t\tfs=2457.600 MHz, decimated=38.400 MHz, 32-bit DDS, range=38.400 MHz\n",
      "\t\taxis_avg_buffer v1.1 (has edge counter)\n",
      "\t\tmaxlen 8192 accumulated, 1024 decimated (26.667 us)\n",
      "\t\ttriggered by tport 12, pin 0, feedback to tProc input 2\n",
      "\t\tADC tile 2, blk 1 is 1_226, on JHC8\n",
      "\t3:\taxis_pfb_readout_v4 - configured by PYNQ\n",
      "\t\tfs=2457.600 MHz, decimated=38.400 MHz, 32-bit DDS, range=38.400 MHz\n",
      "\t\taxis_avg_buffer v1.1 (has edge counter)\n",
      "\t\tmaxlen 8192 accumulated, 1024 decimated (26.667 us)\n",
      "\t\ttriggered by tport 13, pin 0, feedback to tProc input 3\n",
      "\t\tADC tile 2, blk 1 is 1_226, on JHC8\n",
      "\t4:\taxis_pfb_readout_v4 - configured by PYNQ\n",
      "\t\tfs=2457.600 MHz, decimated=38.400 MHz, 32-bit DDS, range=38.400 MHz\n",
      "\t\taxis_avg_buffer v1.1 (has edge counter)\n",
      "\t\tmaxlen 8192 accumulated, 1024 decimated (26.667 us)\n",
      "\t\ttriggered by tport 14, pin 0, feedback to tProc input 4\n",
      "\t\tADC tile 2, blk 1 is 1_226, on JHC8\n",
      "\t5:\taxis_pfb_readout_v4 - configured by PYNQ\n",
      "\t\tfs=2457.600 MHz, decimated=38.400 MHz, 32-bit DDS, range=38.400 MHz\n",
      "\t\taxis_avg_buffer v1.1 (has edge counter)\n",
      "\t\tmaxlen 8192 accumulated, 1024 decimated (26.667 us)\n",
      "\t\ttriggered by tport 15, pin 0, feedback to tProc input 5\n",
      "\t\tADC tile 2, blk 1 is 1_226, on JHC8\n",
      "\t6:\taxis_pfb_readout_v4 - configured by PYNQ\n",
      "\t\tfs=2457.600 MHz, decimated=38.400 MHz, 32-bit DDS, range=38.400 MHz\n",
      "\t\taxis_avg_buffer v1.1 (has edge counter)\n",
      "\t\tmaxlen 8192 accumulated, 1024 decimated (26.667 us)\n",
      "\t\ttriggered by tport 16, pin 0, feedback to tProc input 6\n",
      "\t\tADC tile 2, blk 1 is 1_226, on JHC8\n",
      "\t7:\taxis_pfb_readout_v4 - configured by PYNQ\n",
      "\t\tfs=2457.600 MHz, decimated=38.400 MHz, 32-bit DDS, range=38.400 MHz\n",
      "\t\taxis_avg_buffer v1.1 (has edge counter)\n",
      "\t\tmaxlen 8192 accumulated, 1024 decimated (26.667 us)\n",
      "\t\ttriggered by tport 17, pin 0, feedback to tProc input 7\n",
      "\t\tADC tile 2, blk 1 is 1_226, on JHC8\n",
      "\t8:\taxis_pfb_readout_v4 - configured by PYNQ\n",
      "\t\tfs=2457.600 MHz, decimated=38.400 MHz, 32-bit DDS, range=38.400 MHz\n",
      "\t\taxis_avg_buffer v1.1 (has edge counter)\n",
      "\t\tmaxlen 8192 accumulated, 1024 decimated (26.667 us)\n",
      "\t\ttriggered by tport 18, pin 0, feedback to tProc input 8\n",
      "\t\tADC tile 2, blk 1 is 1_226, on JHC8\n",
      "\t9:\taxis_pfb_readout_v4 - configured by PYNQ\n",
      "\t\tfs=2457.600 MHz, decimated=38.400 MHz, 32-bit DDS, range=38.400 MHz\n",
      "\t\taxis_avg_buffer v1.1 (has edge counter)\n",
      "\t\tmaxlen 8192 accumulated, 1024 decimated (26.667 us)\n",
      "\t\ttriggered by tport 19, pin 0, feedback to tProc input 9\n",
      "\t\tADC tile 2, blk 1 is 1_226, on JHC8\n",
      "\n",
      "\t8 digital output pins:\n",
      "\t0:\tPMOD0_0_LS\n",
      "\t1:\tPMOD0_1_LS\n",
      "\t2:\tPMOD0_2_LS\n",
      "\t3:\tPMOD0_3_LS\n",
      "\t4:\tPMOD0_4_LS\n",
      "\t5:\tPMOD0_5_LS\n",
      "\t6:\tPMOD0_6_LS\n",
      "\t7:\tPMOD0_7_LS\n",
      "\n",
      "\ttProc qick_processor (\"v2\") rev 23: program memory 4096 words, data memory 16384 words\n",
      "\t\texternal start pin: None\n",
      "\n",
      "\tDDR4 memory buffer: 1073741824 samples (3.495 sec), 128 samples/transfer\n",
      "\t\twired to readouts [0, 1, 2, 3, 4, 5, 6, 7, 8, 9]\n",
      "\n",
      "\tMR buffer: 8192 samples (3.333 us), wired to readouts [0, 1]\n"
     ]
    }
   ],
   "source": [
    "Pyro4.config.SERIALIZER = \"pickle\"\n",
    "Pyro4.config.PICKLE_PROTOCOL_VERSION = 4\n",
    "\n",
    "ns_host = \"192.168.2.99\"  # make sure this matches your board's ip address!\n",
    "ns_port = 8888\n",
    "proxy_name = \"myqick\"\n",
    "\n",
    "ns = Pyro4.locateNS(host=ns_host, port=ns_port)\n",
    "soc = Pyro4.Proxy(ns.lookup(proxy_name))\n",
    "soccfg = QickConfig(soc.get_cfg())\n",
    "print(soccfg)"
   ]
  },
  {
   "cell_type": "markdown",
   "metadata": {},
   "source": [
    "TODO demonstrate how to set up pauli spin blockade readout"
   ]
  },
  {
   "cell_type": "markdown",
   "metadata": {},
   "source": [
    "Start by creating a spam object -- this is where you will store the coordinates and durations for your PSB routine"
   ]
  },
  {
   "cell_type": "markdown",
   "metadata": {},
   "source": []
  },
  {
   "cell_type": "markdown",
   "metadata": {},
   "source": [
    "We need to create a config for our spam parameters"
   ]
  },
  {
   "cell_type": "markdown",
   "metadata": {},
   "source": [
    "![alt text](demo_data/1754589529_flush_scan.png)"
   ]
  },
  {
   "cell_type": "markdown",
   "metadata": {},
   "source": [
    "![alt text](demo_data/1754589861_meas_scan.png)"
   ]
  },
  {
   "cell_type": "markdown",
   "metadata": {},
   "source": [
    "![alt text](demo_data/1754589287_meas_hist.png)"
   ]
  },
  {
   "cell_type": "markdown",
   "metadata": {},
   "source": []
  },
  {
   "cell_type": "markdown",
   "metadata": {},
   "source": []
  }
 ],
 "metadata": {
  "kernelspec": {
   "display_name": "Python 3",
   "language": "python",
   "name": "python3"
  },
  "language_info": {
   "codemirror_mode": {
    "name": "ipython",
    "version": 3
   },
   "file_extension": ".py",
   "mimetype": "text/x-python",
   "name": "python",
   "nbconvert_exporter": "python",
   "pygments_lexer": "ipython3",
   "version": "3.11.0"
  }
 },
 "nbformat": 4,
 "nbformat_minor": 2
}
